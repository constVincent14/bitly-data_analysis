{
 "cells": [
  {
   "cell_type": "markdown",
   "id": "a31e8c31",
   "metadata": {},
   "source": [
    "## Data Analysis For \"USA.gov Data From Bitly\""
   ]
  },
  {
   "cell_type": "markdown",
   "id": "6f274402",
   "metadata": {},
   "source": [
    "### Section 1<br>Load Data: \"USA.gov Data From Bitly\"\n",
    "In 2011, US gov partnered with URL shortening service bitly to provide a feed of anonymous data gathered from users who shorten links ending with (*.gov*) or (*.mil*).In the same year, a live feed as well as hourly snapshots were available as downloadable text files. The service eventually shut down in 2017, but I've got this data from a book that Wes McKinney wrote, titled **Python for Data Analysis**.\n",
    "\n",
    "<br>Inside the dataset, each line in the data"
   ]
  },
  {
   "cell_type": "code",
   "execution_count": 43,
   "id": "4243f049",
   "metadata": {},
   "outputs": [
    {
     "data": {
      "text/plain": [
       "'{ \"a\": \"Mozilla\\\\/5.0 (Windows NT 6.1; WOW64) AppleWebKit\\\\/535.11 (KHTML, like Gecko) Chrome\\\\/17.0.963.78 Safari\\\\/535.11\", \"c\": \"US\", \"nk\": 1, \"tz\": \"America\\\\/New_York\", \"gr\": \"MA\", \"g\": \"A6qOVH\", \"h\": \"wfLQtf\", \"l\": \"orofrog\", \"al\": \"en-US,en;q=0.8\", \"hh\": \"1.usa.gov\", \"r\": \"http:\\\\/\\\\/www.facebook.com\\\\/l\\\\/7AQEFzjSi\\\\/1.usa.gov\\\\/wfLQtf\", \"u\": \"http:\\\\/\\\\/www.ncbi.nlm.nih.gov\\\\/pubmed\\\\/22415991\", \"t\": 1331923247, \"hc\": 1331822918, \"cy\": \"Danvers\", \"ll\": [ 42.576698, -70.954903 ] }\\n'"
      ]
     },
     "metadata": {},
     "output_type": "display_data"
    },
    {
     "data": {
      "text/plain": [
       "{'a': 'Mozilla/5.0 (Windows NT 6.1; WOW64) AppleWebKit/535.11 (KHTML, like Gecko) Chrome/17.0.963.78 Safari/535.11',\n",
       " 'c': 'US',\n",
       " 'nk': 1,\n",
       " 'tz': 'America/New_York',\n",
       " 'gr': 'MA',\n",
       " 'g': 'A6qOVH',\n",
       " 'h': 'wfLQtf',\n",
       " 'l': 'orofrog',\n",
       " 'al': 'en-US,en;q=0.8',\n",
       " 'hh': '1.usa.gov',\n",
       " 'r': 'http://www.facebook.com/l/7AQEFzjSi/1.usa.gov/wfLQtf',\n",
       " 'u': 'http://www.ncbi.nlm.nih.gov/pubmed/22415991',\n",
       " 't': 1331923247,\n",
       " 'hc': 1331822918,\n",
       " 'cy': 'Danvers',\n",
       " 'll': [42.576698, -70.954903]}"
      ]
     },
     "metadata": {},
     "output_type": "display_data"
    }
   ],
   "source": [
    "# READ ONLY THE FIRST LINE IN DATA\n",
    "path = \"./datasets/example.txt\"\n",
    "display(open(path).readline())\n",
    "\n",
    "# SINCE DATA IS STORED IN THE FORM OF JSON, WE USE PYTHON STD LIBRARY FOR JSON\n",
    "import json\n",
    "records = [json.loads(line) for line in open(path)]\n",
    "display(records[0])"
   ]
  },
  {
   "cell_type": "markdown",
   "id": "ad37d9f1",
   "metadata": {},
   "source": [
    "### Section 2<br>Analyzing TimeZones Field From Data\n",
    "Suppose the first thing we want to do is to find the most often-occuring time zones in the dataset (the **tz** field). <br>We'll do it in two different ways:\n",
    "* Using full python mode to count the time zones, and\n",
    "* Using pandas to count the time zones\n",
    "\n",
    "And finally in the end we'll make a **horizontal barplot** to visualize the result using `seaborn`."
   ]
  },
  {
   "cell_type": "markdown",
   "id": "c81ab2da",
   "metadata": {},
   "source": [
    "**Extracting the tz field from data records:**"
   ]
  },
  {
   "cell_type": "code",
   "execution_count": 2,
   "id": "36579685",
   "metadata": {},
   "outputs": [
    {
     "ename": "KeyError",
     "evalue": "'tz'",
     "output_type": "error",
     "traceback": [
      "\u001b[1;31m-------------------------------------------------------------------------\u001b[0m",
      "\u001b[1;31mKeyError\u001b[0m                                Traceback (most recent call last)",
      "Input \u001b[1;32mIn [2]\u001b[0m, in \u001b[0;36m<cell line: 2>\u001b[1;34m()\u001b[0m\n\u001b[0;32m      1\u001b[0m \u001b[38;5;66;03m#extracting \"tz\" field from all of the records\u001b[39;00m\n\u001b[1;32m----> 2\u001b[0m time_zones \u001b[38;5;241m=\u001b[39m [rec[\u001b[38;5;124m\"\u001b[39m\u001b[38;5;124mtz\u001b[39m\u001b[38;5;124m\"\u001b[39m] \u001b[38;5;28;01mfor\u001b[39;00m rec \u001b[38;5;129;01min\u001b[39;00m records]\n",
      "Input \u001b[1;32mIn [2]\u001b[0m, in \u001b[0;36m<listcomp>\u001b[1;34m(.0)\u001b[0m\n\u001b[0;32m      1\u001b[0m \u001b[38;5;66;03m#extracting \"tz\" field from all of the records\u001b[39;00m\n\u001b[1;32m----> 2\u001b[0m time_zones \u001b[38;5;241m=\u001b[39m [\u001b[43mrec\u001b[49m\u001b[43m[\u001b[49m\u001b[38;5;124;43m\"\u001b[39;49m\u001b[38;5;124;43mtz\u001b[39;49m\u001b[38;5;124;43m\"\u001b[39;49m\u001b[43m]\u001b[49m \u001b[38;5;28;01mfor\u001b[39;00m rec \u001b[38;5;129;01min\u001b[39;00m records]\n",
      "\u001b[1;31mKeyError\u001b[0m: 'tz'"
     ]
    }
   ],
   "source": [
    "# EXTRACTING ONLY \n",
    "time_zones = [rec[\"tz\"] for rec in records]"
   ]
  },
  {
   "cell_type": "markdown",
   "id": "fee9df6f",
   "metadata": {},
   "source": [
    "It turns out that not all of the records have a timezone **tz** field. We can fix this by adding if statement at the end of list comprehension, to check whether a record has a timezone field or not."
   ]
  },
  {
   "cell_type": "code",
   "execution_count": 41,
   "id": "de6453ec",
   "metadata": {},
   "outputs": [
    {
     "data": {
      "text/plain": [
       "['America/New_York',\n",
       " 'America/Denver',\n",
       " 'America/New_York',\n",
       " 'America/Sao_Paulo',\n",
       " 'America/New_York',\n",
       " 'America/New_York',\n",
       " 'Europe/Warsaw',\n",
       " '',\n",
       " '',\n",
       " '']"
      ]
     },
     "metadata": {},
     "output_type": "display_data"
    },
    {
     "data": {
      "text/plain": [
       "'SIZE: 3440'"
      ]
     },
     "metadata": {},
     "output_type": "display_data"
    }
   ],
   "source": [
    "time_zones = [rec[\"tz\"] for rec in records if \"tz\" in rec]\n",
    "display(time_zones[:10], \"SIZE: {}\".format(len(time_zones)))"
   ]
  },
  {
   "cell_type": "markdown",
   "id": "973975e7",
   "metadata": {},
   "source": [
    "**Using python or python's standard library to count the time zones:**"
   ]
  },
  {
   "cell_type": "code",
   "execution_count": 4,
   "id": "02bef410",
   "metadata": {},
   "outputs": [],
   "source": [
    "#define function to produce counts by time zone\n",
    "def counts_tz(sequence):\n",
    "    counts = {}\n",
    "    for idx in sequence:\n",
    "        if idx in counts:\n",
    "            counts[idx] += 1\n",
    "        else:\n",
    "            counts[idx] = 1\n",
    "    return counts\n",
    "\n",
    "counts = counts_tz(new_tz)"
   ]
  },
  {
   "cell_type": "code",
   "execution_count": 5,
   "id": "f21b018f",
   "metadata": {},
   "outputs": [
    {
     "data": {
      "text/plain": [
       "[('America/New_York', 1251),\n",
       " ('America/Chicago', 400),\n",
       " ('America/Los_Angeles', 382),\n",
       " ('America/Denver', 191),\n",
       " ('Europe/London', 74),\n",
       " ('Asia/Tokyo', 37),\n",
       " ('Pacific/Honolulu', 36),\n",
       " ('Europe/Madrid', 35),\n",
       " ('America/Sao_Paulo', 33),\n",
       " ('Europe/Berlin', 28)]"
      ]
     },
     "metadata": {},
     "output_type": "display_data"
    }
   ],
   "source": [
    "#get only the top 10 time zones, and their counts\n",
    "def top_counts(count_dict, n=10):\n",
    "    key_value_ = []\n",
    "    for key, value in count_dict.items():\n",
    "        key_value_.append((key, value))\n",
    "    key_value_.sort(reverse=True, key=lambda x: x[1])\n",
    "    return key_value_[:n]\n",
    "\n",
    "top_ = top_counts(counts)\n",
    "display(top_)"
   ]
  },
  {
   "cell_type": "markdown",
   "id": "284b9e27",
   "metadata": {},
   "source": [
    "#### Or Using Python Standard Library"
   ]
  },
  {
   "cell_type": "code",
   "execution_count": 8,
   "id": "ded28309",
   "metadata": {
    "scrolled": true
   },
   "outputs": [
    {
     "data": {
      "text/plain": [
       "[('America/New_York', 1251),\n",
       " ('America/Chicago', 400),\n",
       " ('America/Los_Angeles', 382),\n",
       " ('America/Denver', 191),\n",
       " ('Europe/London', 74),\n",
       " ('Asia/Tokyo', 37),\n",
       " ('Pacific/Honolulu', 36),\n",
       " ('Europe/Madrid', 35),\n",
       " ('America/Sao_Paulo', 33),\n",
       " ('Europe/Berlin', 28)]"
      ]
     },
     "execution_count": 8,
     "metadata": {},
     "output_type": "execute_result"
    }
   ],
   "source": [
    "from collections import Counter\n",
    "counts = Counter(new_tz)\n",
    "counts.most_common(10)"
   ]
  },
  {
   "cell_type": "markdown",
   "id": "5c4ddcde",
   "metadata": {},
   "source": [
    "### Section 2: Counting Time Zones with Pandas"
   ]
  },
  {
   "cell_type": "code",
   "execution_count": 15,
   "id": "25616b27",
   "metadata": {},
   "outputs": [
    {
     "name": "stdout",
     "output_type": "stream",
     "text": [
      "<class 'pandas.core.frame.DataFrame'>\n",
      "RangeIndex: 3560 entries, 0 to 3559\n",
      "Data columns (total 18 columns):\n",
      " #   Column       Non-Null Count  Dtype  \n",
      "---  ------       --------------  -----  \n",
      " 0   a            3440 non-null   object \n",
      " 1   c            2919 non-null   object \n",
      " 2   nk           3440 non-null   float64\n",
      " 3   tz           3440 non-null   object \n",
      " 4   gr           2919 non-null   object \n",
      " 5   g            3440 non-null   object \n",
      " 6   h            3440 non-null   object \n",
      " 7   l            3440 non-null   object \n",
      " 8   al           3094 non-null   object \n",
      " 9   hh           3440 non-null   object \n",
      " 10  r            3440 non-null   object \n",
      " 11  u            3440 non-null   object \n",
      " 12  t            3440 non-null   float64\n",
      " 13  hc           3440 non-null   float64\n",
      " 14  cy           2919 non-null   object \n",
      " 15  ll           2919 non-null   object \n",
      " 16  _heartbeat_  120 non-null    float64\n",
      " 17  kw           93 non-null     object \n",
      "dtypes: float64(4), object(14)\n",
      "memory usage: 500.8+ KB\n"
     ]
    },
    {
     "data": {
      "text/plain": [
       "None"
      ]
     },
     "metadata": {},
     "output_type": "display_data"
    },
    {
     "data": {
      "text/html": [
       "<div>\n",
       "<style scoped>\n",
       "    .dataframe tbody tr th:only-of-type {\n",
       "        vertical-align: middle;\n",
       "    }\n",
       "\n",
       "    .dataframe tbody tr th {\n",
       "        vertical-align: top;\n",
       "    }\n",
       "\n",
       "    .dataframe thead th {\n",
       "        text-align: right;\n",
       "    }\n",
       "</style>\n",
       "<table border=\"1\" class=\"dataframe\">\n",
       "  <thead>\n",
       "    <tr style=\"text-align: right;\">\n",
       "      <th></th>\n",
       "      <th>tz</th>\n",
       "    </tr>\n",
       "  </thead>\n",
       "  <tbody>\n",
       "    <tr>\n",
       "      <th>0</th>\n",
       "      <td>America/New_York</td>\n",
       "    </tr>\n",
       "    <tr>\n",
       "      <th>1</th>\n",
       "      <td>America/Denver</td>\n",
       "    </tr>\n",
       "    <tr>\n",
       "      <th>2</th>\n",
       "      <td>America/New_York</td>\n",
       "    </tr>\n",
       "    <tr>\n",
       "      <th>3</th>\n",
       "      <td>America/Sao_Paulo</td>\n",
       "    </tr>\n",
       "    <tr>\n",
       "      <th>4</th>\n",
       "      <td>America/New_York</td>\n",
       "    </tr>\n",
       "    <tr>\n",
       "      <th>5</th>\n",
       "      <td>America/New_York</td>\n",
       "    </tr>\n",
       "    <tr>\n",
       "      <th>6</th>\n",
       "      <td>Europe/Warsaw</td>\n",
       "    </tr>\n",
       "    <tr>\n",
       "      <th>7</th>\n",
       "      <td></td>\n",
       "    </tr>\n",
       "    <tr>\n",
       "      <th>8</th>\n",
       "      <td></td>\n",
       "    </tr>\n",
       "    <tr>\n",
       "      <th>9</th>\n",
       "      <td></td>\n",
       "    </tr>\n",
       "  </tbody>\n",
       "</table>\n",
       "</div>"
      ],
      "text/plain": [
       "                  tz\n",
       "0   America/New_York\n",
       "1     America/Denver\n",
       "2   America/New_York\n",
       "3  America/Sao_Paulo\n",
       "4   America/New_York\n",
       "5   America/New_York\n",
       "6      Europe/Warsaw\n",
       "7                   \n",
       "8                   \n",
       "9                   "
      ]
     },
     "metadata": {},
     "output_type": "display_data"
    }
   ],
   "source": [
    "import pandas as pd\n",
    "records_df = pd.DataFrame(records)\n",
    "display(records_df.info())\n",
    "display(records_df[[\"tz\"]][:10])"
   ]
  },
  {
   "cell_type": "code",
   "execution_count": 25,
   "id": "ef0e608f",
   "metadata": {},
   "outputs": [
    {
     "data": {
      "text/plain": [
       "America/New_York       1251\n",
       "                        521\n",
       "America/Chicago         400\n",
       "America/Los_Angeles     382\n",
       "America/Denver          191\n",
       "Europe/London            74\n",
       "Asia/Tokyo               37\n",
       "Pacific/Honolulu         36\n",
       "Europe/Madrid            35\n",
       "America/Sao_Paulo        33\n",
       "Name: tz, dtype: int64"
      ]
     },
     "metadata": {},
     "output_type": "display_data"
    },
    {
     "name": "stdout",
     "output_type": "stream",
     "text": [
      "America/New_York       1251\n",
      "Unknown                 521\n",
      "America/Chicago         400\n",
      "America/Los_Angeles     382\n",
      "America/Denver          191\n",
      "Missing                 120\n",
      "Europe/London            74\n",
      "Asia/Tokyo               37\n",
      "Pacific/Honolulu         36\n",
      "Europe/Madrid            35\n",
      "Name: tz, dtype: int64\n"
     ]
    }
   ],
   "source": [
    "#use .value_counts method for Series in order to \n",
    "#count time_zones\n",
    "tz_counts = records_df[\"tz\"].value_counts()\n",
    "display(tz_counts[:10])\n",
    "\n",
    "#replace missing value with fillna method\n",
    "#print(records_df[\"tz\"].isna().sum())\n",
    "clean_tz = records_df[\"tz\"].fillna(\"Missing\")\n",
    "\n",
    "#replacing empty string with 'Unknown'\n",
    "clean_tz[clean_tz == \"\"] = \"Unknown\"\n",
    "tz_counts = clean_tz.value_counts()\n",
    "print(tz_counts[:10])"
   ]
  },
  {
   "cell_type": "code",
   "execution_count": 38,
   "id": "4bdba551",
   "metadata": {},
   "outputs": [
    {
     "data": {
      "image/png": "[encoded data removed]",
      "text/plain": [
       "<Figure size 576x432 with 1 Axes>"
      ]
     },
     "metadata": {
      "needs_background": "light"
     },
     "output_type": "display_data"
    }
   ],
   "source": [
    "#usign seaborn to visualize data\n",
    "import seaborn as sns\n",
    "import matplotlib.pyplot as plt\n",
    "subset = tz_counts[:10] #select only top 10 time zones\n",
    "\n",
    "%matplotlib inline\n",
    "plt.rcParams[\"figure.figsize\"] = (8,6)\n",
    "sns.barplot(y=subset.index, x=subset.values)\n",
    "plt.ylabel(\"TIME ZONES\")\n",
    "plt.xlabel(\"COUNTS\")\n",
    "plt.grid(color=\"#333\", linestyle=\":\", linewidth=0.5)\n",
    "plt.show()"
   ]
  }
 ],
 "metadata": {
  "kernelspec": {
   "display_name": "Python 3 (ipykernel)",
   "language": "python",
   "name": "python3"
  },
  "language_info": {
   "codemirror_mode": {
    "name": "ipython",
    "version": 3
   },
   "file_extension": ".py",
   "mimetype": "text/x-python",
   "name": "python",
   "nbconvert_exporter": "python",
   "pygments_lexer": "ipython3",
   "version": "3.10.4"
  }
 },
 "nbformat": 4,
 "nbformat_minor": 5
}
